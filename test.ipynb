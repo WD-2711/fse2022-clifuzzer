{
 "cells": [
  {
   "cell_type": "code",
   "execution_count": 4,
   "metadata": {},
   "outputs": [
    {
     "name": "stdout",
     "output_type": "stream",
     "text": [
      "[]\n"
     ]
    }
   ],
   "source": [
    "import setuptools\n",
    "packages = setuptools.find_packages('.')\n",
    "print(packages)"
   ]
  },
  {
   "cell_type": "code",
   "execution_count": 1,
   "metadata": {},
   "outputs": [
    {
     "name": "stdout",
     "output_type": "stream",
     "text": [
      "{'1': '111', '2': '222'}\n"
     ]
    }
   ],
   "source": [
    "dic1 = {\"1\":\"111\", \"2\":\"222\"}\n",
    "dic2 = {**dic1}\n",
    "print(dic2)"
   ]
  }
 ],
 "metadata": {
  "kernelspec": {
   "display_name": "Python 3.8.2 64-bit",
   "language": "python",
   "name": "python3"
  },
  "language_info": {
   "codemirror_mode": {
    "name": "ipython",
    "version": 3
   },
   "file_extension": ".py",
   "mimetype": "text/x-python",
   "name": "python",
   "nbconvert_exporter": "python",
   "pygments_lexer": "ipython3",
   "version": "3.8.2"
  },
  "orig_nbformat": 4,
  "vscode": {
   "interpreter": {
    "hash": "ddf3a80cbbd63857c9235241d2f36c02bf9d668ce99e404c2906425409db5477"
   }
  }
 },
 "nbformat": 4,
 "nbformat_minor": 2
}
