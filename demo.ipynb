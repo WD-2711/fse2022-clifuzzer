{
 "cells": [
  {
   "cell_type": "markdown",
   "metadata": {},
   "source": [
    "# Demo for CLIFuzz\n",
    "\n",
    "## What is CLIFuzz?\n",
    "\n",
    "`CLIFuzz` is a tool to fuzz command-line interface (CLI) utilities using their configuration options and arguments. It first automatically extracts the configuration options and arguments from CLI utilities which use `getopt`, `getopt_long` or `getopt_long_only` to parse its CLI invocations. It then constructs a JSON grammar representing its invocation language which is then used to grammar fuzz the utility."
   ]
  },
  {
   "cell_type": "markdown",
   "metadata": {},
   "source": [
    "Step 2. Consider an example CLI utility `cat` (v9.0) on the Linux command line that uses `getopt_long` to parse its invocations."
   ]
  },
  {
   "cell_type": "markdown",
   "metadata": {},
   "source": [
    "Step 3. We observe that `cat` can have multiple options in its invocation e.g., `-A`, `--show-ends` etc."
   ]
  },
  {
   "cell_type": "code",
   "execution_count": 1,
   "metadata": {
    "vscode": {
     "languageId": "shellscript"
    }
   },
   "outputs": [
    {
     "name": "stdout",
     "output_type": "stream",
     "text": [
      "Usage: cat [OPTION]... [FILE]...\n",
      "Concatenate FILE(s) to standard output.\n",
      "\n",
      "With no FILE, or when FILE is -, read standard input.\n",
      "\n",
      "  -A, --show-all           equivalent to -vET\n",
      "  -b, --number-nonblank    number nonempty output lines, overrides -n\n",
      "  -e                       equivalent to -vE\n",
      "  -E, --show-ends          display $ at end of each line\n",
      "  -n, --number             number all output lines\n",
      "  -s, --squeeze-blank      suppress repeated empty output lines\n",
      "  -t                       equivalent to -vT\n",
      "  -T, --show-tabs          display TAB characters as ^I\n",
      "  -u                       (ignored)\n",
      "  -v, --show-nonprinting   use ^ and M- notation, except for LFD and TAB\n",
      "      --help     display this help and exit\n",
      "      --version  output version information and exit\n",
      "\n",
      "Examples:\n",
      "  cat f - g  Output f's contents, then standard input, then g's contents.\n",
      "  cat        Copy standard input to standard output.\n",
      "\n",
      "GNU coreutils online help: <https://www.gnu.org/software/coreutils/>\n",
      "Report cat translation bugs to <https://translationproject.org/team/>\n",
      "Full documentation at: <https://www.gnu.org/software/coreutils/cat>\n",
      "or available locally via: info '(coreutils) cat invocation'\n"
     ]
    }
   ],
   "source": [
    "cat --help"
   ]
  },
  {
   "cell_type": "markdown",
   "metadata": {},
   "source": [
    "Step 4, 5. When we fuzz `cat` without incorporating its options in the fuzzing invocation, we miss out on a lot of code segments which can only be triggered by these options. A trivial example in `cat` is the code parsing its invocation:"
   ]
  },
  {
   "cell_type": "markdown",
   "metadata": {},
   "source": [
    "    while ((c = getopt_long (argc, argv, \"benstuvAET\", long_options, NULL)) != -1) {\n",
    "        switch (c) {\n",
    "            ...\n",
    "            case 'E':\n",
    "                show_ends = true;\n",
    "                break;\n",
    "            ...\n",
    "        }"
   ]
  },
  {
   "cell_type": "markdown",
   "metadata": {},
   "source": [
    "The configuration options activate some flags/variables in this code, e.g., setting the `E` option in `cat` sets the `show_ends` flag to `true`. This flag in turn activates some code segment in the code. E.g., the value of the `show_ends` variable dictates the execution of the following code segment, among others, in `cat`. Excluding the `-E` option from the fuzzing invocations will never execute such code segments."
   ]
  },
  {
   "cell_type": "markdown",
   "metadata": {},
   "source": [
    "    if (show_ends)\n",
    "      {\n",
    "        if (pending_cr)\n",
    "          {\n",
    "            *bpout++ = '^';\n",
    "            *bpout++ = 'M';\n",
    "            pending_cr = false;\n",
    "          }\n",
    "        *bpout++ = '$';\n",
    "      }      "
   ]
  },
  {
   "cell_type": "markdown",
   "metadata": {},
   "source": [
    "Step 6. The table below lists the difference in code coverage between fuzzing `cat` without options using `AFL++` and fuzzing `cat` with options using `CLIFuzz`. We see that `CLIFuzz` is able to achieve better Line and Branch Coverage."
   ]
  },
  {
   "cell_type": "markdown",
   "metadata": {},
   "source": [
    "| Utility |#lines |#branches| AFL++ Line Coverage | AFL++ Branch Coverage | CLIFuzz Line Coverage | CLIFuzz Branch Coverage |\n",
    "|---|---|---|---|---|---|---|\n",
    "| `cat` (v9.0) |1044|784|33.94|22.71|35.81|25.56| "
   ]
  },
  {
   "cell_type": "markdown",
   "metadata": {},
   "source": [
    "Step 7. -> \"We show 5--6 slides illustrating how \\clifuzz works\". Not sure what exactly to show here. - AG"
   ]
  },
  {
   "cell_type": "markdown",
   "metadata": {},
   "source": [
    "Step 8. The script `run-cf-cmd.py` is the main script. It extracts the options and generates grammars of utilities. It also runs the fuzzer on the utilities using their grammars. Its `help` output describes its usage -"
   ]
  },
  {
   "cell_type": "markdown",
   "metadata": {},
   "source": [
    "    ubuntu@clifuzzer:~/fse2022-clifuzzer/src$ python3 run-cf-cmd.py --help\n",
    "    usage: run-cf-cmd.py [-h] [--get-grammar | --get-options | -f FUZZ | --get-coverage | --fuzz-coverage FUZZ_COVERAGE | --get-manual-coverage] [-o O] [-g GRAM_FILE] [--log-pass] [--invalid-options] [--invalid-values] [--seed SEED] binary \n",
    "\n",
    "    Run Configuration fuzzing on the given binary\n",
    "\n",
    "    positional arguments: \n",
    "      binary                Binary or path to Binary to fuzz on\n",
    "\n",
    "    optional arguments:\n",
    "      -h, --help            show this help message and exit\n",
    "      --get-grammar         Print the grammar extracted from options\n",
    "      --get-options         Print a list of cmdline options available in the binary\n",
    "      -f FUZZ, --fuzz FUZZ  No. of times the fuzzer should fuzz the binary and note unexpected behaviour including crashes and interesting return codes\n",
    "      --get-coverage        Extract the coverage achieved in the tool\n",
    "      --fuzz-coverage FUZZ_COVERAGE\n",
    "                            Run fuzz FUZZ_COVERAGE times and then report the extracted coverage. Equivalent to running -f FUZZ_COVERAGE first and then running --get-coverage on a binary\n",
    "      --get-manual-coverage \n",
    "                            Extract the manual testing coverage of the binary \n",
    "      -o O                  File to dump the output to. Defaults to binary-name.out\n",
    "      -g GRAM_FILE, --gram-file GRAM_FILE\n",
    "                            File containing the grammar to fuzz from.\n",
    "      --log-pass            logs passing invocations as well.\n",
    "      --invalid-options     Inserts invalid options into the grammar\n",
    "      --invalid-values      Inserts invalid values for some options in the grammar\n",
    "      --seed SEED           Seed for randomising    "
   ]
  },
  {
   "cell_type": "markdown",
   "metadata": {},
   "source": [
    "Step 9 By invoking `run-cf-cmd.py` on `cat`, we can extract its options and the resultant grammar.\n"
   ]
  },
  {
   "cell_type": "markdown",
   "metadata": {},
   "source": []
  },
  {
   "cell_type": "markdown",
   "metadata": {},
   "source": [
    "## Replicating our results"
   ]
  },
  {
   "cell_type": "markdown",
   "metadata": {},
   "source": [
    "For easy replication of our results, you can follow the following steps -\n",
    "\n",
    "Install `LXD` on the host machine, and in case of Linux based hosts, update `/proc/sys/kernel/core_pattern` as follows:"
   ]
  },
  {
   "cell_type": "markdown",
   "metadata": {},
   "source": [
    "    # echo /tmp/core.%e.%p.%t > /proc/sys/kernel/core_pattern\n",
    "    $ cat /proc/sys/kernel/core_pattern\n",
    "    /tmp/core.%e.%p.%t"
   ]
  },
  {
   "cell_type": "markdown",
   "metadata": {},
   "source": []
  }
 ],
 "metadata": {
  "kernelspec": {
   "display_name": "Python 3.8.10 64-bit",
   "language": "python",
   "name": "python3"
  },
  "language_info": {
   "codemirror_mode": {
    "name": "ipython",
    "version": 3
   },
   "file_extension": ".py",
   "mimetype": "text/x-python",
   "name": "python",
   "nbconvert_exporter": "python",
   "pygments_lexer": "ipython3",
   "version": "3.8.10"
  },
  "orig_nbformat": 4,
  "vscode": {
   "interpreter": {
    "hash": "916dbcbb3f70747c44a77c7bcd40155683ae19c65e1c03b4aa3499c5328201f1"
   }
  }
 },
 "nbformat": 4,
 "nbformat_minor": 2
}
