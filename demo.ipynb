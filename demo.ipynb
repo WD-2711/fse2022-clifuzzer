{
 "cells": [
  {
   "cell_type": "markdown",
   "metadata": {},
   "source": [
    "# Demo for CLIFuzz\n",
    "\n",
    "## What is CLIFuzz?\n",
    "\n",
    "`CLIFuzz` is a tool to fuzz command-line interface (CLI) utilities using their configuration options and arguments. It first automatically extracts the configuration options and arguments from CLI utilities which use `getopt`, `getopt_long` or `getopt_long_only` to parse its CLI invocations. It then constructs a JSON grammar representing its invocation language which is then used to grammar fuzz the utility.\n",
    "\n",
    "## Prerequisites\n",
    "We start by installing a few prerequisite Jupyter extensions."
   ]
  },
  {
   "cell_type": "code",
   "execution_count": null,
   "metadata": {},
   "outputs": [],
   "source": [
    "%pip install jupyter_contrib_nbextensions jupyter_nbextensions_configurator==0.4.1"
   ]
  },
  {
   "cell_type": "code",
   "execution_count": null,
   "metadata": {},
   "outputs": [],
   "source": [
    "import sys"
   ]
  },
  {
   "cell_type": "code",
   "execution_count": null,
   "metadata": {},
   "outputs": [],
   "source": [
    "!{sys.executable} -m jupyter contrib nbextension install --sys-prefix"
   ]
  },
  {
   "cell_type": "code",
   "execution_count": null,
   "metadata": {},
   "outputs": [],
   "source": [
    "!{sys.executable} -m jupyter nbextensions_configurator enable"
   ]
  },
  {
   "cell_type": "code",
   "execution_count": null,
   "metadata": {},
   "outputs": [],
   "source": [
    "!{sys.executable} -m jupyter nbextension enable toc2/main"
   ]
  },
  {
   "cell_type": "code",
   "execution_count": null,
   "metadata": {},
   "outputs": [],
   "source": [
    "!{sys.executable} -m jupyter nbextension enable collapsible_headings/main"
   ]
  },
  {
   "cell_type": "markdown",
   "metadata": {},
   "source": [
    "Please Restart and refresh the Jupyter notebook at this point."
   ]
  },
  {
   "cell_type": "markdown",
   "metadata": {},
   "source": [
    "## Walk Through"
   ]
  },
  {
   "cell_type": "markdown",
   "metadata": {},
   "source": [
    "### Step 1. \n",
    "We start with a UNIX command line.\n",
    "\n",
    "### Step 2.\n",
    "Consider an example CLI utility `cat` (v9.0) on the Linux command line that uses `getopt_long` to parse its invocations."
   ]
  },
  {
   "cell_type": "code",
   "execution_count": null,
   "metadata": {},
   "outputs": [],
   "source": [
    "!which cat"
   ]
  },
  {
   "cell_type": "markdown",
   "metadata": {},
   "source": [
    "### Step 3.\n"
   ]
  },
  {
   "cell_type": "code",
   "execution_count": null,
   "metadata": {
    "vscode": {
     "languageId": "shellscript"
    }
   },
   "outputs": [],
   "source": [
    "!cat --help"
   ]
  },
  {
   "cell_type": "markdown",
   "metadata": {},
   "source": [
    "We observe that `cat` can have multiple options in its invocation e.g., `-A`, `--show-ends` etc."
   ]
  },
  {
   "cell_type": "markdown",
   "metadata": {},
   "source": [
    "### Step 4.\n",
    "Fuzzing `cat`"
   ]
  },
  {
   "cell_type": "code",
   "execution_count": null,
   "metadata": {},
   "outputs": [],
   "source": [
    "import string, random\n",
    "def fuzzer(max_length, choices):\n",
    "    string_length = random.randrange(1, max_length + 1)\n",
    "    return ''.join([random.choice(choices)\n",
    "                    for c in range(string_length)])"
   ]
  },
  {
   "cell_type": "code",
   "execution_count": null,
   "metadata": {},
   "outputs": [],
   "source": [
    "chars = [c for c in string.printable if c not in \"\\n\\t\"]\n",
    "for i in range(100):\n",
    "    s = fuzzer(100, chars)\n",
    "    print('%s %s' % ('cat', s))"
   ]
  },
  {
   "cell_type": "markdown",
   "metadata": {},
   "source": [
    "### Step 5.\n",
    "When we fuzz `cat` without incorporating its options in the fuzzing invocation, we miss out on a lot of code segments which can only be triggered by these options. A trivial example in `cat` is the code parsing its invocation:"
   ]
  },
  {
   "cell_type": "markdown",
   "metadata": {},
   "source": [
    "    while ((c = getopt_long (argc, argv, \"benstuvAET\", long_options, NULL)) != -1) {\n",
    "        switch (c) {\n",
    "            ...\n",
    "            case 'E':\n",
    "                show_ends = true;\n",
    "                break;\n",
    "            ...\n",
    "        }"
   ]
  },
  {
   "cell_type": "markdown",
   "metadata": {},
   "source": [
    "The configuration options activate some flags/variables in this code, e.g., setting the `E` option in `cat` sets the `show_ends` flag to `true`. This flag in turn activates some code segment in the code. E.g., the value of the `show_ends` variable dictates the execution of the following code segment, among others, in `cat`. Excluding the `-E` option from the fuzzing invocations will never execute such code segments."
   ]
  },
  {
   "cell_type": "markdown",
   "metadata": {},
   "source": [
    "    if (show_ends)\n",
    "      {\n",
    "        if (pending_cr)\n",
    "          {\n",
    "            *bpout++ = '^';\n",
    "            *bpout++ = 'M';\n",
    "            pending_cr = false;\n",
    "          }\n",
    "        *bpout++ = '$';\n",
    "      }      "
   ]
  },
  {
   "cell_type": "markdown",
   "metadata": {},
   "source": [
    "### Step 6.\n",
    "The table below lists the difference in code coverage between fuzzing `cat` without options using `AFL++` and fuzzing `cat` with options using `CLIFuzz`. We see that `CLIFuzz` is able to achieve better Line and Branch Coverage."
   ]
  },
  {
   "cell_type": "markdown",
   "metadata": {},
   "source": [
    "| Utility |#lines |#branches| AFL++ Line Coverage | AFL++ Branch Coverage | CLIFuzz Line Coverage | CLIFuzz Branch Coverage |\n",
    "|---|---|---|---|---|---|---|\n",
    "| `cat` (v9.0) |1044|784|33.94|22.71|35.81|25.56| "
   ]
  },
  {
   "cell_type": "markdown",
   "metadata": {},
   "source": [
    "### Step 7.\n",
    "How CLIFuzz works (slides)"
   ]
  },
  {
   "cell_type": "markdown",
   "metadata": {},
   "source": [
    "### Step 8.\n",
    "The script `run-cf-cmd.py` is the main script. It extracts the options and generates grammars of utilities. It also runs the fuzzer on the utilities using their grammars. Its `help` output describes its usage -"
   ]
  },
  {
   "cell_type": "markdown",
   "metadata": {},
   "source": [
    " !run-cf-cmd.py --help"
   ]
  },
  {
   "cell_type": "markdown",
   "metadata": {},
   "source": [
    "### Step 9\n",
    "By invoking `run-cf-cmd.py` on `cat`, we can extract its options and the resultant grammar.\n"
   ]
  },
  {
   "cell_type": "code",
   "execution_count": null,
   "metadata": {},
   "outputs": [],
   "source": [
    "!run-cf-cmd.py  --get-grammar -o cat-gram.json ./latest-targets/coreutils/src/ls"
   ]
  },
  {
   "cell_type": "markdown",
   "metadata": {},
   "source": [
    "### Step 10.\n",
    "\n",
    "We show how to produce inputs from this grammar and show the resulting command-line invocations"
   ]
  },
  {
   "cell_type": "markdown",
   "metadata": {},
   "source": [
    "### Step 11. \n",
    "We fuzz cat with CLIFuzz"
   ]
  },
  {
   "cell_type": "code",
   "execution_count": null,
   "metadata": {},
   "outputs": [],
   "source": [
    "!python3 run-cf-cmd.py \\\n",
    "   -f 1000 -g grammar/ls-gram.json \\\n",
    "   -o outputdir/ls.out \\\n",
    "   --log-pass ./latest-targets/coreutils/src/ls"
   ]
  },
  {
   "cell_type": "markdown",
   "metadata": {},
   "source": [
    "### Step 12.\n",
    "We show the increased coverage\n",
    "\n",
    "### Step13.\n",
    "Conclusion."
   ]
  }
 ],
 "metadata": {
  "kernelspec": {
   "display_name": "Python 3 (ipykernel)",
   "language": "python",
   "name": "python3"
  },
  "language_info": {
   "codemirror_mode": {
    "name": "ipython",
    "version": 3
   },
   "file_extension": ".py",
   "mimetype": "text/x-python",
   "name": "python",
   "nbconvert_exporter": "python",
   "pygments_lexer": "ipython3",
   "version": "3.9.12"
  },
  "toc": {
   "base_numbering": 1,
   "nav_menu": {},
   "number_sections": true,
   "sideBar": true,
   "skip_h1_title": false,
   "title_cell": "Table of Contents",
   "title_sidebar": "Contents",
   "toc_cell": false,
   "toc_position": {},
   "toc_section_display": true,
   "toc_window_display": true
  },
  "vscode": {
   "interpreter": {
    "hash": "916dbcbb3f70747c44a77c7bcd40155683ae19c65e1c03b4aa3499c5328201f1"
   }
  }
 },
 "nbformat": 4,
 "nbformat_minor": 2
}
